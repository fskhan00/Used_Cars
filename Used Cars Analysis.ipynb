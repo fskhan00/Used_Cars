{
 "cells": [
  {
   "cell_type": "markdown",
   "metadata": {},
   "source": [
    "# Predicting Future of Used Cars"
   ]
  },
  {
   "cell_type": "markdown",
   "metadata": {},
   "source": [
    "## Preparing for tools\n",
    "\n",
    "Libraries required for Data manuplation"
   ]
  },
  {
   "cell_type": "code",
   "execution_count": 1,
   "metadata": {},
   "outputs": [],
   "source": [
    "import numpy as np\n",
    "import pandas as pd\n",
    "import matplotlib.pyplot as plt\n",
    "import seaborn as sns\n",
    "%matplotlib inline"
   ]
  },
  {
   "cell_type": "markdown",
   "metadata": {},
   "source": [
    "## Loading Data..."
   ]
  },
  {
   "cell_type": "code",
   "execution_count": 2,
   "metadata": {},
   "outputs": [],
   "source": [
    "df = pd.read_csv('OLX_Car_Data_CSV.csv', encoding='ISO-8859-1')"
   ]
  },
  {
   "cell_type": "markdown",
   "metadata": {},
   "source": [
    "## Exploration data Analysis (EDA)\n",
    "\n",
    "The goal here is to become subject matter export.\n",
    "\n",
    "1. Ask questions what problem are we trying to solve?\n",
    "2. How are we going to fill the missing values?\n",
    "3. What kind of data is available and how will we deal with it?\n",
    "4. Are there any outliers and how are we going to deal with them?\n",
    "5. Is there a need to add more features or remove them to add value to the data?"
   ]
  },
  {
   "cell_type": "code",
   "execution_count": 3,
   "metadata": {
    "scrolled": false
   },
   "outputs": [
    {
     "data": {
      "text/html": [
       "<div>\n",
       "<style scoped>\n",
       "    .dataframe tbody tr th:only-of-type {\n",
       "        vertical-align: middle;\n",
       "    }\n",
       "\n",
       "    .dataframe tbody tr th {\n",
       "        vertical-align: top;\n",
       "    }\n",
       "\n",
       "    .dataframe thead th {\n",
       "        text-align: right;\n",
       "    }\n",
       "</style>\n",
       "<table border=\"1\" class=\"dataframe\">\n",
       "  <thead>\n",
       "    <tr style=\"text-align: right;\">\n",
       "      <th></th>\n",
       "      <th>Brand</th>\n",
       "      <th>Condition</th>\n",
       "      <th>Fuel</th>\n",
       "      <th>KMs Driven</th>\n",
       "      <th>Model</th>\n",
       "      <th>Price</th>\n",
       "      <th>Registered City</th>\n",
       "      <th>Transaction Type</th>\n",
       "      <th>Year</th>\n",
       "    </tr>\n",
       "  </thead>\n",
       "  <tbody>\n",
       "    <tr>\n",
       "      <th>0</th>\n",
       "      <td>Toyota</td>\n",
       "      <td>Used</td>\n",
       "      <td>Diesel</td>\n",
       "      <td>1.0</td>\n",
       "      <td>Prado</td>\n",
       "      <td>2100000</td>\n",
       "      <td>Karachi</td>\n",
       "      <td>Cash</td>\n",
       "      <td>1997.0</td>\n",
       "    </tr>\n",
       "    <tr>\n",
       "      <th>1</th>\n",
       "      <td>Suzuki</td>\n",
       "      <td>Used</td>\n",
       "      <td>Petrol</td>\n",
       "      <td>100000.0</td>\n",
       "      <td>Bolan</td>\n",
       "      <td>380000</td>\n",
       "      <td>Karachi</td>\n",
       "      <td>Cash</td>\n",
       "      <td>2006.0</td>\n",
       "    </tr>\n",
       "    <tr>\n",
       "      <th>2</th>\n",
       "      <td>Suzuki</td>\n",
       "      <td>Used</td>\n",
       "      <td>CNG</td>\n",
       "      <td>12345.0</td>\n",
       "      <td>Bolan</td>\n",
       "      <td>340000</td>\n",
       "      <td>Karachi</td>\n",
       "      <td>Cash</td>\n",
       "      <td>1998.0</td>\n",
       "    </tr>\n",
       "    <tr>\n",
       "      <th>3</th>\n",
       "      <td>Suzuki</td>\n",
       "      <td>Used</td>\n",
       "      <td>Petrol</td>\n",
       "      <td>94000.0</td>\n",
       "      <td>Alto</td>\n",
       "      <td>535000</td>\n",
       "      <td>Karachi</td>\n",
       "      <td>Cash</td>\n",
       "      <td>2010.0</td>\n",
       "    </tr>\n",
       "    <tr>\n",
       "      <th>4</th>\n",
       "      <td>Toyota</td>\n",
       "      <td>Used</td>\n",
       "      <td>Petrol</td>\n",
       "      <td>100000.0</td>\n",
       "      <td>Corolla XLI</td>\n",
       "      <td>1430000</td>\n",
       "      <td>Karachi</td>\n",
       "      <td>Cash</td>\n",
       "      <td>2013.0</td>\n",
       "    </tr>\n",
       "  </tbody>\n",
       "</table>\n",
       "</div>"
      ],
      "text/plain": [
       "    Brand Condition    Fuel  KMs Driven        Model    Price Registered City  \\\n",
       "0  Toyota      Used  Diesel         1.0        Prado  2100000         Karachi   \n",
       "1  Suzuki      Used  Petrol    100000.0        Bolan   380000         Karachi   \n",
       "2  Suzuki      Used     CNG     12345.0        Bolan   340000         Karachi   \n",
       "3  Suzuki      Used  Petrol     94000.0         Alto   535000         Karachi   \n",
       "4  Toyota      Used  Petrol    100000.0  Corolla XLI  1430000         Karachi   \n",
       "\n",
       "  Transaction Type    Year  \n",
       "0             Cash  1997.0  \n",
       "1             Cash  2006.0  \n",
       "2             Cash  1998.0  \n",
       "3             Cash  2010.0  \n",
       "4             Cash  2013.0  "
      ]
     },
     "execution_count": 3,
     "metadata": {},
     "output_type": "execute_result"
    }
   ],
   "source": [
    "df.head()"
   ]
  },
  {
   "cell_type": "code",
   "execution_count": 4,
   "metadata": {},
   "outputs": [
    {
     "data": {
      "text/plain": [
       "(24973, 9)"
      ]
     },
     "execution_count": 4,
     "metadata": {},
     "output_type": "execute_result"
    }
   ],
   "source": [
    "df.shape"
   ]
  },
  {
   "cell_type": "code",
   "execution_count": 5,
   "metadata": {},
   "outputs": [
    {
     "data": {
      "text/plain": [
       "Brand               2137\n",
       "Condition           2136\n",
       "Fuel                2445\n",
       "KMs Driven          2286\n",
       "Model               2448\n",
       "Price                  0\n",
       "Registered City     4636\n",
       "Transaction Type    2445\n",
       "Year                2284\n",
       "dtype: int64"
      ]
     },
     "execution_count": 5,
     "metadata": {},
     "output_type": "execute_result"
    }
   ],
   "source": [
    "df.isna().sum()"
   ]
  },
  {
   "cell_type": "code",
   "execution_count": 6,
   "metadata": {},
   "outputs": [
    {
     "data": {
      "text/html": [
       "<div>\n",
       "<style scoped>\n",
       "    .dataframe tbody tr th:only-of-type {\n",
       "        vertical-align: middle;\n",
       "    }\n",
       "\n",
       "    .dataframe tbody tr th {\n",
       "        vertical-align: top;\n",
       "    }\n",
       "\n",
       "    .dataframe thead th {\n",
       "        text-align: right;\n",
       "    }\n",
       "</style>\n",
       "<table border=\"1\" class=\"dataframe\">\n",
       "  <thead>\n",
       "    <tr style=\"text-align: right;\">\n",
       "      <th></th>\n",
       "      <th>KMs Driven</th>\n",
       "      <th>Price</th>\n",
       "      <th>Year</th>\n",
       "    </tr>\n",
       "  </thead>\n",
       "  <tbody>\n",
       "    <tr>\n",
       "      <th>count</th>\n",
       "      <td>2.268700e+04</td>\n",
       "      <td>2.497300e+04</td>\n",
       "      <td>22689.000000</td>\n",
       "    </tr>\n",
       "    <tr>\n",
       "      <th>mean</th>\n",
       "      <td>1.278112e+05</td>\n",
       "      <td>9.128953e+05</td>\n",
       "      <td>2005.901626</td>\n",
       "    </tr>\n",
       "    <tr>\n",
       "      <th>std</th>\n",
       "      <td>5.996726e+05</td>\n",
       "      <td>1.537134e+06</td>\n",
       "      <td>9.563804</td>\n",
       "    </tr>\n",
       "    <tr>\n",
       "      <th>min</th>\n",
       "      <td>1.000000e+00</td>\n",
       "      <td>5.000000e+04</td>\n",
       "      <td>1915.000000</td>\n",
       "    </tr>\n",
       "    <tr>\n",
       "      <th>25%</th>\n",
       "      <td>1.600000e+04</td>\n",
       "      <td>3.800000e+05</td>\n",
       "      <td>2002.000000</td>\n",
       "    </tr>\n",
       "    <tr>\n",
       "      <th>50%</th>\n",
       "      <td>6.651000e+04</td>\n",
       "      <td>6.500000e+05</td>\n",
       "      <td>2008.000000</td>\n",
       "    </tr>\n",
       "    <tr>\n",
       "      <th>75%</th>\n",
       "      <td>1.000000e+05</td>\n",
       "      <td>1.145000e+06</td>\n",
       "      <td>2013.000000</td>\n",
       "    </tr>\n",
       "    <tr>\n",
       "      <th>max</th>\n",
       "      <td>1.000000e+07</td>\n",
       "      <td>8.765432e+07</td>\n",
       "      <td>2020.000000</td>\n",
       "    </tr>\n",
       "  </tbody>\n",
       "</table>\n",
       "</div>"
      ],
      "text/plain": [
       "         KMs Driven         Price          Year\n",
       "count  2.268700e+04  2.497300e+04  22689.000000\n",
       "mean   1.278112e+05  9.128953e+05   2005.901626\n",
       "std    5.996726e+05  1.537134e+06      9.563804\n",
       "min    1.000000e+00  5.000000e+04   1915.000000\n",
       "25%    1.600000e+04  3.800000e+05   2002.000000\n",
       "50%    6.651000e+04  6.500000e+05   2008.000000\n",
       "75%    1.000000e+05  1.145000e+06   2013.000000\n",
       "max    1.000000e+07  8.765432e+07   2020.000000"
      ]
     },
     "execution_count": 6,
     "metadata": {},
     "output_type": "execute_result"
    }
   ],
   "source": [
    "df.describe()"
   ]
  },
  {
   "cell_type": "code",
   "execution_count": 15,
   "metadata": {},
   "outputs": [
    {
     "name": "stdout",
     "output_type": "stream",
     "text": [
      "Brand\n",
      "False    22836\n",
      "True      2137\n",
      "Name: Brand, dtype: int64\n",
      "\n",
      "Condition\n",
      "False    22837\n",
      "True      2136\n",
      "Name: Condition, dtype: int64\n",
      "\n",
      "Fuel\n",
      "False    22528\n",
      "True      2445\n",
      "Name: Fuel, dtype: int64\n",
      "\n",
      "KMs Driven\n",
      "False    24973\n",
      "Name: KMs Driven, dtype: int64\n",
      "\n",
      "Model\n",
      "False    22525\n",
      "True      2448\n",
      "Name: Model, dtype: int64\n",
      "\n",
      "Price\n",
      "False    24973\n",
      "Name: Price, dtype: int64\n",
      "\n",
      "Registered City\n",
      "False    20337\n",
      "True      4636\n",
      "Name: Registered City, dtype: int64\n",
      "\n",
      "Transaction Type\n",
      "False    22528\n",
      "True      2445\n",
      "Name: Transaction Type, dtype: int64\n",
      "\n",
      "Year\n",
      "False    24973\n",
      "Name: Year, dtype: int64\n",
      "\n"
     ]
    }
   ],
   "source": [
    "missing_data = df.isnull()\n",
    "for column in missing_data.columns.values.tolist():\n",
    "    print(column)\n",
    "    print (missing_data[column].value_counts())\n",
    "    print(\"\") "
   ]
  },
  {
   "cell_type": "code",
   "execution_count": 8,
   "metadata": {},
   "outputs": [
    {
     "data": {
      "text/html": [
       "<div>\n",
       "<style scoped>\n",
       "    .dataframe tbody tr th:only-of-type {\n",
       "        vertical-align: middle;\n",
       "    }\n",
       "\n",
       "    .dataframe tbody tr th {\n",
       "        vertical-align: top;\n",
       "    }\n",
       "\n",
       "    .dataframe thead th {\n",
       "        text-align: right;\n",
       "    }\n",
       "</style>\n",
       "<table border=\"1\" class=\"dataframe\">\n",
       "  <thead>\n",
       "    <tr style=\"text-align: right;\">\n",
       "      <th></th>\n",
       "      <th>Brand</th>\n",
       "      <th>Condition</th>\n",
       "      <th>Fuel</th>\n",
       "      <th>KMs Driven</th>\n",
       "      <th>Model</th>\n",
       "      <th>Price</th>\n",
       "      <th>Registered City</th>\n",
       "      <th>Transaction Type</th>\n",
       "      <th>Year</th>\n",
       "    </tr>\n",
       "  </thead>\n",
       "  <tbody>\n",
       "    <tr>\n",
       "      <th>0</th>\n",
       "      <td>Toyota</td>\n",
       "      <td>Used</td>\n",
       "      <td>Diesel</td>\n",
       "      <td>1.0</td>\n",
       "      <td>Prado</td>\n",
       "      <td>2100000</td>\n",
       "      <td>Karachi</td>\n",
       "      <td>Cash</td>\n",
       "      <td>1997.0</td>\n",
       "    </tr>\n",
       "    <tr>\n",
       "      <th>1</th>\n",
       "      <td>Suzuki</td>\n",
       "      <td>Used</td>\n",
       "      <td>Petrol</td>\n",
       "      <td>100000.0</td>\n",
       "      <td>Bolan</td>\n",
       "      <td>380000</td>\n",
       "      <td>Karachi</td>\n",
       "      <td>Cash</td>\n",
       "      <td>2006.0</td>\n",
       "    </tr>\n",
       "    <tr>\n",
       "      <th>2</th>\n",
       "      <td>Suzuki</td>\n",
       "      <td>Used</td>\n",
       "      <td>CNG</td>\n",
       "      <td>12345.0</td>\n",
       "      <td>Bolan</td>\n",
       "      <td>340000</td>\n",
       "      <td>Karachi</td>\n",
       "      <td>Cash</td>\n",
       "      <td>1998.0</td>\n",
       "    </tr>\n",
       "    <tr>\n",
       "      <th>3</th>\n",
       "      <td>Suzuki</td>\n",
       "      <td>Used</td>\n",
       "      <td>Petrol</td>\n",
       "      <td>94000.0</td>\n",
       "      <td>Alto</td>\n",
       "      <td>535000</td>\n",
       "      <td>Karachi</td>\n",
       "      <td>Cash</td>\n",
       "      <td>2010.0</td>\n",
       "    </tr>\n",
       "    <tr>\n",
       "      <th>4</th>\n",
       "      <td>Toyota</td>\n",
       "      <td>Used</td>\n",
       "      <td>Petrol</td>\n",
       "      <td>100000.0</td>\n",
       "      <td>Corolla XLI</td>\n",
       "      <td>1430000</td>\n",
       "      <td>Karachi</td>\n",
       "      <td>Cash</td>\n",
       "      <td>2013.0</td>\n",
       "    </tr>\n",
       "    <tr>\n",
       "      <th>...</th>\n",
       "      <td>...</td>\n",
       "      <td>...</td>\n",
       "      <td>...</td>\n",
       "      <td>...</td>\n",
       "      <td>...</td>\n",
       "      <td>...</td>\n",
       "      <td>...</td>\n",
       "      <td>...</td>\n",
       "      <td>...</td>\n",
       "    </tr>\n",
       "    <tr>\n",
       "      <th>24968</th>\n",
       "      <td>Toyota</td>\n",
       "      <td>Used</td>\n",
       "      <td>CNG</td>\n",
       "      <td>200000.0</td>\n",
       "      <td>Corolla XE</td>\n",
       "      <td>1070000</td>\n",
       "      <td>Lahore</td>\n",
       "      <td>Cash</td>\n",
       "      <td>2001.0</td>\n",
       "    </tr>\n",
       "    <tr>\n",
       "      <th>24969</th>\n",
       "      <td>Daihatsu</td>\n",
       "      <td>New</td>\n",
       "      <td>Petrol</td>\n",
       "      <td>10000.0</td>\n",
       "      <td>Cuore</td>\n",
       "      <td>390000</td>\n",
       "      <td>Karachi</td>\n",
       "      <td>Cash</td>\n",
       "      <td>2004.0</td>\n",
       "    </tr>\n",
       "    <tr>\n",
       "      <th>24970</th>\n",
       "      <td>Other Brands</td>\n",
       "      <td>Used</td>\n",
       "      <td>CNG</td>\n",
       "      <td>158715.0</td>\n",
       "      <td>Other</td>\n",
       "      <td>180000</td>\n",
       "      <td>NaN</td>\n",
       "      <td>Cash</td>\n",
       "      <td>2000.0</td>\n",
       "    </tr>\n",
       "    <tr>\n",
       "      <th>24971</th>\n",
       "      <td>Suzuki</td>\n",
       "      <td>Used</td>\n",
       "      <td>Petrol</td>\n",
       "      <td>1.0</td>\n",
       "      <td>Alto</td>\n",
       "      <td>470000</td>\n",
       "      <td>Rawalpindi</td>\n",
       "      <td>Cash</td>\n",
       "      <td>2003.0</td>\n",
       "    </tr>\n",
       "    <tr>\n",
       "      <th>24972</th>\n",
       "      <td>Toyota</td>\n",
       "      <td>Used</td>\n",
       "      <td>Petrol</td>\n",
       "      <td>48500.0</td>\n",
       "      <td>Corolla GLI</td>\n",
       "      <td>2050000</td>\n",
       "      <td>Lahore</td>\n",
       "      <td>Cash</td>\n",
       "      <td>2017.0</td>\n",
       "    </tr>\n",
       "  </tbody>\n",
       "</table>\n",
       "<p>24973 rows × 9 columns</p>\n",
       "</div>"
      ],
      "text/plain": [
       "              Brand Condition    Fuel  KMs Driven        Model    Price  \\\n",
       "0            Toyota      Used  Diesel         1.0        Prado  2100000   \n",
       "1            Suzuki      Used  Petrol    100000.0        Bolan   380000   \n",
       "2            Suzuki      Used     CNG     12345.0        Bolan   340000   \n",
       "3            Suzuki      Used  Petrol     94000.0         Alto   535000   \n",
       "4            Toyota      Used  Petrol    100000.0  Corolla XLI  1430000   \n",
       "...             ...       ...     ...         ...          ...      ...   \n",
       "24968        Toyota      Used     CNG    200000.0   Corolla XE  1070000   \n",
       "24969      Daihatsu       New  Petrol     10000.0        Cuore   390000   \n",
       "24970  Other Brands      Used     CNG    158715.0        Other   180000   \n",
       "24971        Suzuki      Used  Petrol         1.0         Alto   470000   \n",
       "24972        Toyota      Used  Petrol     48500.0  Corolla GLI  2050000   \n",
       "\n",
       "      Registered City Transaction Type    Year  \n",
       "0             Karachi             Cash  1997.0  \n",
       "1             Karachi             Cash  2006.0  \n",
       "2             Karachi             Cash  1998.0  \n",
       "3             Karachi             Cash  2010.0  \n",
       "4             Karachi             Cash  2013.0  \n",
       "...               ...              ...     ...  \n",
       "24968          Lahore             Cash  2001.0  \n",
       "24969         Karachi             Cash  2004.0  \n",
       "24970             NaN             Cash  2000.0  \n",
       "24971      Rawalpindi             Cash  2003.0  \n",
       "24972          Lahore             Cash  2017.0  \n",
       "\n",
       "[24973 rows x 9 columns]"
      ]
     },
     "execution_count": 8,
     "metadata": {},
     "output_type": "execute_result"
    }
   ],
   "source": [
    "df"
   ]
  },
  {
   "cell_type": "code",
   "execution_count": 12,
   "metadata": {},
   "outputs": [
    {
     "name": "stdout",
     "output_type": "stream",
     "text": [
      "127811.16282452505\n"
     ]
    }
   ],
   "source": [
    "Km_avg = df['KMs Driven'].astype('float').mean(axis=0) \n",
    "df['KMs Driven'].fillna(Km_avg, inplace=True)\n",
    "print(Km_avg)"
   ]
  },
  {
   "cell_type": "code",
   "execution_count": 14,
   "metadata": {},
   "outputs": [
    {
     "name": "stdout",
     "output_type": "stream",
     "text": [
      "2005.901626338754\n"
     ]
    }
   ],
   "source": [
    "Year_avg = df['Year'].astype('float').mean(axis=0)\n",
    "df['Year'].fillna(Year_avg, inplace=True)\n",
    "print(Year_avg)"
   ]
  },
  {
   "cell_type": "code",
   "execution_count": 16,
   "metadata": {},
   "outputs": [],
   "source": [
    "df.dropna(subset=['Brand','Condition','Fuel','Model','Registered City','Transaction Type'], axis=0, inplace=True)"
   ]
  },
  {
   "cell_type": "code",
   "execution_count": 17,
   "metadata": {},
   "outputs": [
    {
     "name": "stdout",
     "output_type": "stream",
     "text": [
      "<class 'pandas.core.frame.DataFrame'>\n",
      "Int64Index: 20334 entries, 0 to 24972\n",
      "Data columns (total 9 columns):\n",
      " #   Column            Non-Null Count  Dtype  \n",
      "---  ------            --------------  -----  \n",
      " 0   Brand             20334 non-null  object \n",
      " 1   Condition         20334 non-null  object \n",
      " 2   Fuel              20334 non-null  object \n",
      " 3   KMs Driven        20334 non-null  float64\n",
      " 4   Model             20334 non-null  object \n",
      " 5   Price             20334 non-null  int64  \n",
      " 6   Registered City   20334 non-null  object \n",
      " 7   Transaction Type  20334 non-null  object \n",
      " 8   Year              20334 non-null  float64\n",
      "dtypes: float64(2), int64(1), object(6)\n",
      "memory usage: 1.6+ MB\n"
     ]
    }
   ],
   "source": [
    "df.info()"
   ]
  },
  {
   "cell_type": "markdown",
   "metadata": {},
   "source": [
    "## Visuallization"
   ]
  },
  {
   "cell_type": "code",
   "execution_count": 18,
   "metadata": {},
   "outputs": [
    {
     "data": {
      "text/html": [
       "<div>\n",
       "<style scoped>\n",
       "    .dataframe tbody tr th:only-of-type {\n",
       "        vertical-align: middle;\n",
       "    }\n",
       "\n",
       "    .dataframe tbody tr th {\n",
       "        vertical-align: top;\n",
       "    }\n",
       "\n",
       "    .dataframe thead th {\n",
       "        text-align: right;\n",
       "    }\n",
       "</style>\n",
       "<table border=\"1\" class=\"dataframe\">\n",
       "  <thead>\n",
       "    <tr style=\"text-align: right;\">\n",
       "      <th></th>\n",
       "      <th>Brand</th>\n",
       "      <th>Condition</th>\n",
       "      <th>Fuel</th>\n",
       "      <th>KMs Driven</th>\n",
       "      <th>Model</th>\n",
       "      <th>Price</th>\n",
       "      <th>Registered City</th>\n",
       "      <th>Transaction Type</th>\n",
       "      <th>Year</th>\n",
       "    </tr>\n",
       "  </thead>\n",
       "  <tbody>\n",
       "    <tr>\n",
       "      <th>0</th>\n",
       "      <td>Toyota</td>\n",
       "      <td>Used</td>\n",
       "      <td>Diesel</td>\n",
       "      <td>1.0</td>\n",
       "      <td>Prado</td>\n",
       "      <td>2100000</td>\n",
       "      <td>Karachi</td>\n",
       "      <td>Cash</td>\n",
       "      <td>1997.0</td>\n",
       "    </tr>\n",
       "    <tr>\n",
       "      <th>1</th>\n",
       "      <td>Suzuki</td>\n",
       "      <td>Used</td>\n",
       "      <td>Petrol</td>\n",
       "      <td>100000.0</td>\n",
       "      <td>Bolan</td>\n",
       "      <td>380000</td>\n",
       "      <td>Karachi</td>\n",
       "      <td>Cash</td>\n",
       "      <td>2006.0</td>\n",
       "    </tr>\n",
       "    <tr>\n",
       "      <th>2</th>\n",
       "      <td>Suzuki</td>\n",
       "      <td>Used</td>\n",
       "      <td>CNG</td>\n",
       "      <td>12345.0</td>\n",
       "      <td>Bolan</td>\n",
       "      <td>340000</td>\n",
       "      <td>Karachi</td>\n",
       "      <td>Cash</td>\n",
       "      <td>1998.0</td>\n",
       "    </tr>\n",
       "    <tr>\n",
       "      <th>3</th>\n",
       "      <td>Suzuki</td>\n",
       "      <td>Used</td>\n",
       "      <td>Petrol</td>\n",
       "      <td>94000.0</td>\n",
       "      <td>Alto</td>\n",
       "      <td>535000</td>\n",
       "      <td>Karachi</td>\n",
       "      <td>Cash</td>\n",
       "      <td>2010.0</td>\n",
       "    </tr>\n",
       "    <tr>\n",
       "      <th>4</th>\n",
       "      <td>Toyota</td>\n",
       "      <td>Used</td>\n",
       "      <td>Petrol</td>\n",
       "      <td>100000.0</td>\n",
       "      <td>Corolla XLI</td>\n",
       "      <td>1430000</td>\n",
       "      <td>Karachi</td>\n",
       "      <td>Cash</td>\n",
       "      <td>2013.0</td>\n",
       "    </tr>\n",
       "  </tbody>\n",
       "</table>\n",
       "</div>"
      ],
      "text/plain": [
       "    Brand Condition    Fuel  KMs Driven        Model    Price Registered City  \\\n",
       "0  Toyota      Used  Diesel         1.0        Prado  2100000         Karachi   \n",
       "1  Suzuki      Used  Petrol    100000.0        Bolan   380000         Karachi   \n",
       "2  Suzuki      Used     CNG     12345.0        Bolan   340000         Karachi   \n",
       "3  Suzuki      Used  Petrol     94000.0         Alto   535000         Karachi   \n",
       "4  Toyota      Used  Petrol    100000.0  Corolla XLI  1430000         Karachi   \n",
       "\n",
       "  Transaction Type    Year  \n",
       "0             Cash  1997.0  \n",
       "1             Cash  2006.0  \n",
       "2             Cash  1998.0  \n",
       "3             Cash  2010.0  \n",
       "4             Cash  2013.0  "
      ]
     },
     "execution_count": 18,
     "metadata": {},
     "output_type": "execute_result"
    }
   ],
   "source": [
    "df.head()"
   ]
  },
  {
   "cell_type": "code",
   "execution_count": 67,
   "metadata": {
    "scrolled": true
   },
   "outputs": [
    {
     "data": {
      "image/png": "[encoded data removed]",
      "text/plain": [
       "<Figure size 432x288 with 1 Axes>"
      ]
     },
     "metadata": {},
     "output_type": "display_data"
    }
   ],
   "source": [
    "pd.crosstab(df['Brand'], df['Transaction Type']).plot(kind='bar');"
   ]
  },
  {
   "cell_type": "code",
   "execution_count": null,
   "metadata": {},
   "outputs": [],
   "source": []
  },
  {
   "cell_type": "code",
   "execution_count": null,
   "metadata": {},
   "outputs": [],
   "source": []
  },
  {
   "cell_type": "code",
   "execution_count": null,
   "metadata": {},
   "outputs": [],
   "source": []
  },
  {
   "cell_type": "code",
   "execution_count": null,
   "metadata": {},
   "outputs": [],
   "source": []
  }
 ],
 "metadata": {
  "kernelspec": {
   "display_name": "Python 3",
   "language": "python",
   "name": "python3"
  },
  "language_info": {
   "codemirror_mode": {
    "name": "ipython",
    "version": 3
   },
   "file_extension": ".py",
   "mimetype": "text/x-python",
   "name": "python",
   "nbconvert_exporter": "python",
   "pygments_lexer": "ipython3",
   "version": "3.8.5"
  }
 },
 "nbformat": 4,
 "nbformat_minor": 4
}
